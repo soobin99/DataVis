{
 "cells": [
  {
   "cell_type": "code",
   "execution_count": 1,
   "metadata": {},
   "outputs": [],
   "source": [
    "import os\n",
    "import pandas as pd\n",
    "import matplotlib.pyplot as plt\n",
    "import numpy as np\n",
    "import matplotlib as mpl\n",
    "import matplotlib.font_manager as fm"
   ]
  },
  {
   "cell_type": "markdown",
   "metadata": {},
   "source": [
    "한글폰트설정"
   ]
  },
  {
   "cell_type": "code",
   "execution_count": 2,
   "metadata": {},
   "outputs": [],
   "source": [
    "fontPath = 'NanumBarunGothic.ttf' # For Windows\n",
    "fontprop=fm.FontProperties(fname=fontPath, size=18)"
   ]
  },
  {
   "cell_type": "code",
   "execution_count": 3,
   "metadata": {},
   "outputs": [],
   "source": [
    "import matplotlib\n",
    "from matplotlib import font_manager, rc\n",
    "import platform\n",
    "\n",
    "if platform.system() == 'Windows':\n",
    "# 윈도우인 경우\n",
    "    font_name = font_manager.FontProperties(fname=\"NanumBarunGothic.ttf\").get_name()\n",
    "    rc('font', family=font_name)\n",
    "else:    \n",
    "# Mac 인 경우\n",
    "    rc('font', family='AppleGothic')\n",
    "    \n",
    "matplotlib.rcParams['axes.unicode_minus'] = False   \n",
    "#그래프에서 마이너스 기호가 표시되도록 하는 설정입니다. "
   ]
  },
  {
   "cell_type": "markdown",
   "metadata": {},
   "source": [
    "Data Read"
   ]
  },
  {
   "cell_type": "code",
   "execution_count": 4,
   "metadata": {},
   "outputs": [
    {
     "data": {
      "text/plain": [
       "['2012.csv',\n",
       " '2013.csv',\n",
       " '2014.csv',\n",
       " '2015.csv',\n",
       " '2016.csv',\n",
       " '2017.csv',\n",
       " '2018.csv',\n",
       " 'Processing']"
      ]
     },
     "execution_count": 4,
     "metadata": {},
     "output_type": "execute_result"
    }
   ],
   "source": [
    "path='Data/'\n",
    "file_list=os.listdir(path)\n",
    "file_list"
   ]
  },
  {
   "cell_type": "code",
   "execution_count": 5,
   "metadata": {},
   "outputs": [],
   "source": [
    "char=['발생년', '주야', '요일', '사망자수', '사상자수', '중상자수', '경상자수',\n",
    "       '부상신고자수', '발생지시도',  '사고유형_대분류', '법규위반_대분류',\n",
    "       '도로형태_대분류', '가해자_당사자종별_대분류', '피해자_당사자종별_대분류']\n",
    "col=['년도', '주야', '요일', '사망자수', '사상자수', '중상자수', '경상자수',\n",
    "       '부상자수', '발생지', '사고유형', '법규위반',\n",
    "       '도로형태', '가해자', '피해자']"
   ]
  },
  {
   "cell_type": "code",
   "execution_count": 6,
   "metadata": {},
   "outputs": [
    {
     "name": "stdout",
     "output_type": "stream",
     "text": [
      "2012.csv\n",
      "2013.csv\n",
      "2014.csv\n",
      "2015.csv\n",
      "2016.csv\n",
      "2017.csv\n",
      "2018.csv\n",
      "Processing\n"
     ]
    },
    {
     "ename": "PermissionError",
     "evalue": "[Errno 13] Permission denied: 'Data/Processing'",
     "output_type": "error",
     "traceback": [
      "\u001b[1;31m---------------------------------------------------------------------------\u001b[0m",
      "\u001b[1;31mPermissionError\u001b[0m                           Traceback (most recent call last)",
      "\u001b[1;32m<ipython-input-6-c6d33c38f275>\u001b[0m in \u001b[0;36m<module>\u001b[1;34m\u001b[0m\n\u001b[0;32m      2\u001b[0m \u001b[1;32mfor\u001b[0m \u001b[0mi\u001b[0m \u001b[1;32min\u001b[0m \u001b[0mfile_list\u001b[0m \u001b[1;33m:\u001b[0m\u001b[1;33m\u001b[0m\u001b[1;33m\u001b[0m\u001b[0m\n\u001b[0;32m      3\u001b[0m     \u001b[0mprint\u001b[0m\u001b[1;33m(\u001b[0m\u001b[0mi\u001b[0m\u001b[1;33m)\u001b[0m\u001b[1;33m;\u001b[0m\u001b[1;33m\u001b[0m\u001b[1;33m\u001b[0m\u001b[0m\n\u001b[1;32m----> 4\u001b[1;33m     \u001b[0md\u001b[0m\u001b[1;33m=\u001b[0m\u001b[0mpd\u001b[0m\u001b[1;33m.\u001b[0m\u001b[0mread_csv\u001b[0m\u001b[1;33m(\u001b[0m\u001b[0mpath\u001b[0m\u001b[1;33m+\u001b[0m\u001b[0mi\u001b[0m\u001b[1;33m,\u001b[0m  \u001b[0mencoding\u001b[0m \u001b[1;33m=\u001b[0m \u001b[1;34m'utf-8'\u001b[0m\u001b[1;33m)\u001b[0m\u001b[1;33m\u001b[0m\u001b[1;33m\u001b[0m\u001b[0m\n\u001b[0m\u001b[0;32m      5\u001b[0m     \u001b[0md\u001b[0m\u001b[1;33m=\u001b[0m\u001b[0md\u001b[0m\u001b[1;33m.\u001b[0m\u001b[0mdropna\u001b[0m\u001b[1;33m(\u001b[0m\u001b[1;33m)\u001b[0m\u001b[1;33m\u001b[0m\u001b[1;33m\u001b[0m\u001b[0m\n\u001b[0;32m      6\u001b[0m     \u001b[0md\u001b[0m\u001b[1;33m=\u001b[0m\u001b[0md\u001b[0m\u001b[1;33m[\u001b[0m\u001b[0mchar\u001b[0m\u001b[1;33m]\u001b[0m\u001b[1;33m\u001b[0m\u001b[1;33m\u001b[0m\u001b[0m\n",
      "\u001b[1;32mC:\\Anaconda3\\envs\\env\\lib\\site-packages\\pandas\\io\\parsers.py\u001b[0m in \u001b[0;36mparser_f\u001b[1;34m(filepath_or_buffer, sep, delimiter, header, names, index_col, usecols, squeeze, prefix, mangle_dupe_cols, dtype, engine, converters, true_values, false_values, skipinitialspace, skiprows, skipfooter, nrows, na_values, keep_default_na, na_filter, verbose, skip_blank_lines, parse_dates, infer_datetime_format, keep_date_col, date_parser, dayfirst, cache_dates, iterator, chunksize, compression, thousands, decimal, lineterminator, quotechar, quoting, doublequote, escapechar, comment, encoding, dialect, error_bad_lines, warn_bad_lines, delim_whitespace, low_memory, memory_map, float_precision)\u001b[0m\n\u001b[0;32m    674\u001b[0m         )\n\u001b[0;32m    675\u001b[0m \u001b[1;33m\u001b[0m\u001b[0m\n\u001b[1;32m--> 676\u001b[1;33m         \u001b[1;32mreturn\u001b[0m \u001b[0m_read\u001b[0m\u001b[1;33m(\u001b[0m\u001b[0mfilepath_or_buffer\u001b[0m\u001b[1;33m,\u001b[0m \u001b[0mkwds\u001b[0m\u001b[1;33m)\u001b[0m\u001b[1;33m\u001b[0m\u001b[1;33m\u001b[0m\u001b[0m\n\u001b[0m\u001b[0;32m    677\u001b[0m \u001b[1;33m\u001b[0m\u001b[0m\n\u001b[0;32m    678\u001b[0m     \u001b[0mparser_f\u001b[0m\u001b[1;33m.\u001b[0m\u001b[0m__name__\u001b[0m \u001b[1;33m=\u001b[0m \u001b[0mname\u001b[0m\u001b[1;33m\u001b[0m\u001b[1;33m\u001b[0m\u001b[0m\n",
      "\u001b[1;32mC:\\Anaconda3\\envs\\env\\lib\\site-packages\\pandas\\io\\parsers.py\u001b[0m in \u001b[0;36m_read\u001b[1;34m(filepath_or_buffer, kwds)\u001b[0m\n\u001b[0;32m    446\u001b[0m \u001b[1;33m\u001b[0m\u001b[0m\n\u001b[0;32m    447\u001b[0m     \u001b[1;31m# Create the parser.\u001b[0m\u001b[1;33m\u001b[0m\u001b[1;33m\u001b[0m\u001b[1;33m\u001b[0m\u001b[0m\n\u001b[1;32m--> 448\u001b[1;33m     \u001b[0mparser\u001b[0m \u001b[1;33m=\u001b[0m \u001b[0mTextFileReader\u001b[0m\u001b[1;33m(\u001b[0m\u001b[0mfp_or_buf\u001b[0m\u001b[1;33m,\u001b[0m \u001b[1;33m**\u001b[0m\u001b[0mkwds\u001b[0m\u001b[1;33m)\u001b[0m\u001b[1;33m\u001b[0m\u001b[1;33m\u001b[0m\u001b[0m\n\u001b[0m\u001b[0;32m    449\u001b[0m \u001b[1;33m\u001b[0m\u001b[0m\n\u001b[0;32m    450\u001b[0m     \u001b[1;32mif\u001b[0m \u001b[0mchunksize\u001b[0m \u001b[1;32mor\u001b[0m \u001b[0miterator\u001b[0m\u001b[1;33m:\u001b[0m\u001b[1;33m\u001b[0m\u001b[1;33m\u001b[0m\u001b[0m\n",
      "\u001b[1;32mC:\\Anaconda3\\envs\\env\\lib\\site-packages\\pandas\\io\\parsers.py\u001b[0m in \u001b[0;36m__init__\u001b[1;34m(self, f, engine, **kwds)\u001b[0m\n\u001b[0;32m    878\u001b[0m             \u001b[0mself\u001b[0m\u001b[1;33m.\u001b[0m\u001b[0moptions\u001b[0m\u001b[1;33m[\u001b[0m\u001b[1;34m\"has_index_names\"\u001b[0m\u001b[1;33m]\u001b[0m \u001b[1;33m=\u001b[0m \u001b[0mkwds\u001b[0m\u001b[1;33m[\u001b[0m\u001b[1;34m\"has_index_names\"\u001b[0m\u001b[1;33m]\u001b[0m\u001b[1;33m\u001b[0m\u001b[1;33m\u001b[0m\u001b[0m\n\u001b[0;32m    879\u001b[0m \u001b[1;33m\u001b[0m\u001b[0m\n\u001b[1;32m--> 880\u001b[1;33m         \u001b[0mself\u001b[0m\u001b[1;33m.\u001b[0m\u001b[0m_make_engine\u001b[0m\u001b[1;33m(\u001b[0m\u001b[0mself\u001b[0m\u001b[1;33m.\u001b[0m\u001b[0mengine\u001b[0m\u001b[1;33m)\u001b[0m\u001b[1;33m\u001b[0m\u001b[1;33m\u001b[0m\u001b[0m\n\u001b[0m\u001b[0;32m    881\u001b[0m \u001b[1;33m\u001b[0m\u001b[0m\n\u001b[0;32m    882\u001b[0m     \u001b[1;32mdef\u001b[0m \u001b[0mclose\u001b[0m\u001b[1;33m(\u001b[0m\u001b[0mself\u001b[0m\u001b[1;33m)\u001b[0m\u001b[1;33m:\u001b[0m\u001b[1;33m\u001b[0m\u001b[1;33m\u001b[0m\u001b[0m\n",
      "\u001b[1;32mC:\\Anaconda3\\envs\\env\\lib\\site-packages\\pandas\\io\\parsers.py\u001b[0m in \u001b[0;36m_make_engine\u001b[1;34m(self, engine)\u001b[0m\n\u001b[0;32m   1112\u001b[0m     \u001b[1;32mdef\u001b[0m \u001b[0m_make_engine\u001b[0m\u001b[1;33m(\u001b[0m\u001b[0mself\u001b[0m\u001b[1;33m,\u001b[0m \u001b[0mengine\u001b[0m\u001b[1;33m=\u001b[0m\u001b[1;34m\"c\"\u001b[0m\u001b[1;33m)\u001b[0m\u001b[1;33m:\u001b[0m\u001b[1;33m\u001b[0m\u001b[1;33m\u001b[0m\u001b[0m\n\u001b[0;32m   1113\u001b[0m         \u001b[1;32mif\u001b[0m \u001b[0mengine\u001b[0m \u001b[1;33m==\u001b[0m \u001b[1;34m\"c\"\u001b[0m\u001b[1;33m:\u001b[0m\u001b[1;33m\u001b[0m\u001b[1;33m\u001b[0m\u001b[0m\n\u001b[1;32m-> 1114\u001b[1;33m             \u001b[0mself\u001b[0m\u001b[1;33m.\u001b[0m\u001b[0m_engine\u001b[0m \u001b[1;33m=\u001b[0m \u001b[0mCParserWrapper\u001b[0m\u001b[1;33m(\u001b[0m\u001b[0mself\u001b[0m\u001b[1;33m.\u001b[0m\u001b[0mf\u001b[0m\u001b[1;33m,\u001b[0m \u001b[1;33m**\u001b[0m\u001b[0mself\u001b[0m\u001b[1;33m.\u001b[0m\u001b[0moptions\u001b[0m\u001b[1;33m)\u001b[0m\u001b[1;33m\u001b[0m\u001b[1;33m\u001b[0m\u001b[0m\n\u001b[0m\u001b[0;32m   1115\u001b[0m         \u001b[1;32melse\u001b[0m\u001b[1;33m:\u001b[0m\u001b[1;33m\u001b[0m\u001b[1;33m\u001b[0m\u001b[0m\n\u001b[0;32m   1116\u001b[0m             \u001b[1;32mif\u001b[0m \u001b[0mengine\u001b[0m \u001b[1;33m==\u001b[0m \u001b[1;34m\"python\"\u001b[0m\u001b[1;33m:\u001b[0m\u001b[1;33m\u001b[0m\u001b[1;33m\u001b[0m\u001b[0m\n",
      "\u001b[1;32mC:\\Anaconda3\\envs\\env\\lib\\site-packages\\pandas\\io\\parsers.py\u001b[0m in \u001b[0;36m__init__\u001b[1;34m(self, src, **kwds)\u001b[0m\n\u001b[0;32m   1872\u001b[0m         \u001b[1;32mif\u001b[0m \u001b[0mkwds\u001b[0m\u001b[1;33m.\u001b[0m\u001b[0mget\u001b[0m\u001b[1;33m(\u001b[0m\u001b[1;34m\"compression\"\u001b[0m\u001b[1;33m)\u001b[0m \u001b[1;32mis\u001b[0m \u001b[1;32mNone\u001b[0m \u001b[1;32mand\u001b[0m \u001b[0mencoding\u001b[0m\u001b[1;33m:\u001b[0m\u001b[1;33m\u001b[0m\u001b[1;33m\u001b[0m\u001b[0m\n\u001b[0;32m   1873\u001b[0m             \u001b[1;32mif\u001b[0m \u001b[0misinstance\u001b[0m\u001b[1;33m(\u001b[0m\u001b[0msrc\u001b[0m\u001b[1;33m,\u001b[0m \u001b[0mstr\u001b[0m\u001b[1;33m)\u001b[0m\u001b[1;33m:\u001b[0m\u001b[1;33m\u001b[0m\u001b[1;33m\u001b[0m\u001b[0m\n\u001b[1;32m-> 1874\u001b[1;33m                 \u001b[0msrc\u001b[0m \u001b[1;33m=\u001b[0m \u001b[0mopen\u001b[0m\u001b[1;33m(\u001b[0m\u001b[0msrc\u001b[0m\u001b[1;33m,\u001b[0m \u001b[1;34m\"rb\"\u001b[0m\u001b[1;33m)\u001b[0m\u001b[1;33m\u001b[0m\u001b[1;33m\u001b[0m\u001b[0m\n\u001b[0m\u001b[0;32m   1875\u001b[0m                 \u001b[0mself\u001b[0m\u001b[1;33m.\u001b[0m\u001b[0mhandles\u001b[0m\u001b[1;33m.\u001b[0m\u001b[0mappend\u001b[0m\u001b[1;33m(\u001b[0m\u001b[0msrc\u001b[0m\u001b[1;33m)\u001b[0m\u001b[1;33m\u001b[0m\u001b[1;33m\u001b[0m\u001b[0m\n\u001b[0;32m   1876\u001b[0m \u001b[1;33m\u001b[0m\u001b[0m\n",
      "\u001b[1;31mPermissionError\u001b[0m: [Errno 13] Permission denied: 'Data/Processing'"
     ]
    }
   ],
   "source": [
    "data=[]\n",
    "for i in file_list :\n",
    "    print(i);\n",
    "    d=pd.read_csv(path+i,  encoding = 'utf-8')\n",
    "    d=d.dropna()\n",
    "    d=d[char]\n",
    "    d.columns=col\n",
    "    d['부상자수']=d['부상자수']+d['경상자수']+d['중상자수']\n",
    "    d=d.drop('경상자수',1)\n",
    "    d=d.drop('중상자수',1)\n",
    "    d=d.replace({'주야':'주'},{'주야':'주간'})\n",
    "    d=d.replace({'주야':'야'},{'주야':'야간'})\n",
    "    d=d.replace({'피해자':'0'},{'피해자':'없음'})\n",
    "    d['횟수']=1\n",
    "    data.append(d)"
   ]
  },
  {
   "cell_type": "code",
   "execution_count": 20,
   "metadata": {},
   "outputs": [
    {
     "data": {
      "text/html": [
       "<div>\n",
       "<style scoped>\n",
       "    .dataframe tbody tr th:only-of-type {\n",
       "        vertical-align: middle;\n",
       "    }\n",
       "\n",
       "    .dataframe tbody tr th {\n",
       "        vertical-align: top;\n",
       "    }\n",
       "\n",
       "    .dataframe thead th {\n",
       "        text-align: right;\n",
       "    }\n",
       "</style>\n",
       "<table border=\"1\" class=\"dataframe\">\n",
       "  <thead>\n",
       "    <tr style=\"text-align: right;\">\n",
       "      <th></th>\n",
       "      <th>year</th>\n",
       "      <th>dayAndNight</th>\n",
       "      <th>week</th>\n",
       "      <th>death</th>\n",
       "      <th>casualty</th>\n",
       "      <th>injuredPerson</th>\n",
       "      <th>location</th>\n",
       "      <th>accKind</th>\n",
       "      <th>violationLaw</th>\n",
       "      <th>roadKind</th>\n",
       "      <th>perpetrator</th>\n",
       "      <th>victim</th>\n",
       "      <th>Count</th>\n",
       "    </tr>\n",
       "  </thead>\n",
       "  <tbody>\n",
       "    <tr>\n",
       "      <th>63</th>\n",
       "      <td>2012</td>\n",
       "      <td>주간</td>\n",
       "      <td>일</td>\n",
       "      <td>1</td>\n",
       "      <td>12</td>\n",
       "      <td>11</td>\n",
       "      <td>충남</td>\n",
       "      <td>차량단독</td>\n",
       "      <td>운전자법규위반</td>\n",
       "      <td>단일로</td>\n",
       "      <td>승합차</td>\n",
       "      <td>없음</td>\n",
       "      <td>1</td>\n",
       "    </tr>\n",
       "    <tr>\n",
       "      <th>125</th>\n",
       "      <td>2012</td>\n",
       "      <td>야간</td>\n",
       "      <td>월</td>\n",
       "      <td>1</td>\n",
       "      <td>10</td>\n",
       "      <td>9</td>\n",
       "      <td>충남</td>\n",
       "      <td>차대차</td>\n",
       "      <td>운전자법규위반</td>\n",
       "      <td>단일로</td>\n",
       "      <td>승합차</td>\n",
       "      <td>화물차</td>\n",
       "      <td>1</td>\n",
       "    </tr>\n",
       "  </tbody>\n",
       "</table>\n",
       "</div>"
      ],
      "text/plain": [
       "     year dayAndNight week  death  casualty  injuredPerson location accKind  \\\n",
       "63   2012          주간    일      1        12             11       충남    차량단독   \n",
       "125  2012          야간    월      1        10              9       충남     차대차   \n",
       "\n",
       "    violationLaw roadKind perpetrator victim  Count  \n",
       "63       운전자법규위반      단일로         승합차     없음      1  \n",
       "125      운전자법규위반      단일로         승합차    화물차      1  "
      ]
     },
     "execution_count": 20,
     "metadata": {},
     "output_type": "execute_result"
    }
   ],
   "source": [
    "totalData=pd.concat([data[0],data[1]],axis=0)\n",
    "for i in range(2,len(data)):\n",
    "    totalData=pd.concat([totalData,data[i]],axis=0)\n",
    "hurtData=totalData[totalData['사상자수']>=10]\n",
    "col_2=['year','dayAndNight','week','death','casualty','injuredPerson','location','accKind','violationLaw','roadKind','perpetrator','victim','Count']\n",
    "hurtData.columns=col_2\n",
    "hurtData.head(2)"
   ]
  },
  {
   "cell_type": "code",
   "execution_count": 22,
   "metadata": {},
   "outputs": [
    {
     "ename": "SyntaxError",
     "evalue": "invalid syntax (<ipython-input-22-6d489015139b>, line 58)",
     "output_type": "error",
     "traceback": [
      "\u001b[1;36m  File \u001b[1;32m\"<ipython-input-22-6d489015139b>\"\u001b[1;36m, line \u001b[1;32m58\u001b[0m\n\u001b[1;33m    건설기계\t보행자\t승용차\t승합차\t없음\t이륜차\t특수차\t화물차\u001b[0m\n\u001b[1;37m        \t^\u001b[0m\n\u001b[1;31mSyntaxError\u001b[0m\u001b[1;31m:\u001b[0m invalid syntax\n"
     ]
    }
   ],
   "source": [
    "d=hurtData\n",
    "d=d.replace({col_2[0]:'주간'},{col_2[0]:'Day'})\n",
    "d=d.replace({col_2[0]:'야간'},{col_2[0]:'Night'})\n",
    "\n",
    "d=d.replace({col_2[2]:'월'},{col_2[2]:'Mon'})\n",
    "d=d.replace({col_2[2]:'화'},{col_2[2]:'Tue'})\n",
    "d=d.replace({col_2[2]:'수'},{col_2[2]:'Wed'})\n",
    "d=d.replace({col_2[2]:'목'},{col_2[2]:'Thu'})\n",
    "d=d.replace({col_2[2]:'금'},{col_2[2]:'Fri'})\n",
    "d=d.replace({col_2[2]:'토'},{col_2[2]:'Sat'})\n",
    "d=d.replace({col_2[2]:'일'},{col_2[2]:'Sun'})\n",
    "\n",
    "d=d.replace({col_2[6]:'경기'},{col_2[6]:'Gyeonggi'})\n",
    "d=d.replace({col_2[6]:'경북'},{col_2[6]:'Gyeongbuk'})\n",
    "d=d.replace({col_2[6]:'전남'},{col_2[6]:'Jeonnam'})\n",
    "d=d.replace({col_2[6]:'충남'},{col_2[6]:'Chungcheongnam'})\n",
    "d=d.replace({col_2[6]:'경남'},{col_2[6]:'Gyeongsangnam'})\n",
    "d=d.replace({col_2[6]:'서울'},{col_2[6]:'Seoul'})\n",
    "d=d.replace({col_2[6]:'강원'},{col_2[6]:'Gangwon'})\n",
    "d=d.replace({col_2[6]:'충북'},{col_2[6]:'Chungbuk'})\n",
    "d=d.replace({col_2[6]:'전북'},{col_2[6]:'Jeonbuk'})\n",
    "d=d.replace({col_2[6]:'인천'},{col_2[6]:'Incheon'})\n",
    "d=d.replace({col_2[6]:'부산'},{col_2[6]:'Busan'})\n",
    "d=d.replace({col_2[6]:'울산'},{col_2[6]:'Ulsan'})\n",
    "d=d.replace({col_2[6]:'대전'},{col_2[6]:'Daejeon'})\n",
    "d=d.replace({col_2[6]:'제주'},{col_2[6]:'Jeju'})\n",
    "d=d.replace({col_2[6]:'광주'},{col_2[6]:'Gwangju'})\n",
    "d=d.replace({col_2[6]:'대구'},{col_2[6]:'Daegu'})\n",
    "\n",
    "d=d.replace({col_2[7]:'차대사람'},{col_2[7]:'Car and People'})\n",
    "d=d.replace({col_2[7]:'차대차'},{col_2[7]:'Car and Car'})\n",
    "d=d.replace({col_2[7]:'차량단독'},{col_2[7]:'Only Car'})\n",
    "\n",
    "d=d.replace({col_2[8]:'운전자법규위반'},{col_2[8]:'Violation of drivers laws'})\n",
    "\n",
    "d=d.replace({col_2[9]:'교차로'},{col_2[9]:'crossroad'})\n",
    "d=d.replace({col_2[9]:'기타'},{col_2[9]:'Other'})\n",
    "d=d.replace({col_2[9]:'기타/불명'},{col_2[9]:'Other/Unknown'})\n",
    "d=d.replace({col_2[9]:'단일로'},{col_2[9]:'single-handedly'})\n",
    "d=d.replace({col_2[9]:'지하도로내'},{col_2[9]:'Inside the underground road'})\n",
    "\n",
    "d=d.replace({col_2[10]:'건설기계'},{col_2[10]:'construction machinery'})\n",
    "d=d.replace({col_2[10]:'농기계'},{col_2[10]:'agricultural machinery'})\n",
    "d=d.replace({col_2[10]:'승용차'},{col_2[10]:'a car'})\n",
    "d=d.replace({col_2[10]:'승합차'},{col_2[10]:'a van'})\n",
    "d=d.replace({col_2[10]:'이륜차'},{col_2[10]:'a two-wheeled car'})\n",
    "d=d.replace({col_2[10]:'특수차'},{col_2[10]:'special car'})\n",
    "d=d.replace({col_2[10]:'화물차'},{col_2[10]:'a freight car'})\n",
    "\n",
    "d=d.replace({col_2[10]:'건설기계'},{col_2[10]:'construction machinery'})\n",
    "d=d.replace({col_2[10]:'농기계'},{col_2[10]:'agricultural machinery'})\n",
    "d=d.replace({col_2[10]:'승용차'},{col_2[10]:'a car'})\n",
    "d=d.replace({col_2[10]:'승합차'},{col_2[10]:'a van'})\n",
    "d=d.replace({col_2[10]:'이륜차'},{col_2[10]:'a two-wheeled car'})\n",
    "d=d.replace({col_2[10]:'특수차'},{col_2[10]:'special car'})\n",
    "d=d.replace({col_2[10]:'화물차'},{col_2[10]:'a freight car'})\n",
    "\n",
    "건설기계\t보행자\t승용차\t승합차\t없음\t이륜차\t특수차\t화물차\n",
    "d=d.replace({col_2[11]:'건설기계'},{col_2[11]:'construction machinery'})\n",
    "d=d.replace({col_2[11]:'보행자'},{col_2[11]:'Pedestrian'})\n",
    "d=d.replace({col_2[11]:'승용차'},{col_2[11]:'a car'})\n",
    "d=d.replace({col_2[11]:'승합차'},{col_2[11]:'a van'})\n",
    "d=d.replace({col_2[11]:'없음'},{col_2[11]:'None.'})\n",
    "d=d.replace({col_2[11]:'이륜차'},{col_2[11]:'a two-wheeled car'})\n",
    "d=d.replace({col_2[11]:'특수차'},{col_2[11]:'special car'})\n",
    "d=d.replace({col_2[11]:'화물차'},{col_2[11]:'a freight car'})\n",
    "\n",
    "d"
   ]
  },
  {
   "cell_type": "code",
   "execution_count": null,
   "metadata": {},
   "outputs": [],
   "source": [
    "hurtData.to_csv('Data/Processing/hurtData.csv',encoding='euc-kr', index=False)"
   ]
  },
  {
   "cell_type": "markdown",
   "metadata": {},
   "source": [
    "사상자수 10명이상 사고의 특징"
   ]
  },
  {
   "cell_type": "code",
   "execution_count": 11,
   "metadata": {
    "scrolled": false
   },
   "outputs": [
    {
     "data": {
      "text/html": [
       "<div>\n",
       "<style scoped>\n",
       "    .dataframe tbody tr th:only-of-type {\n",
       "        vertical-align: middle;\n",
       "    }\n",
       "\n",
       "    .dataframe tbody tr th {\n",
       "        vertical-align: top;\n",
       "    }\n",
       "\n",
       "    .dataframe thead th {\n",
       "        text-align: right;\n",
       "    }\n",
       "</style>\n",
       "<table border=\"1\" class=\"dataframe\">\n",
       "  <thead>\n",
       "    <tr style=\"text-align: right;\">\n",
       "      <th>발생지</th>\n",
       "      <th>경기</th>\n",
       "      <th>경북</th>\n",
       "      <th>전남</th>\n",
       "      <th>충남</th>\n",
       "      <th>경남</th>\n",
       "      <th>서울</th>\n",
       "      <th>강원</th>\n",
       "      <th>충북</th>\n",
       "      <th>전북</th>\n",
       "      <th>인천</th>\n",
       "      <th>부산</th>\n",
       "      <th>울산</th>\n",
       "      <th>대전</th>\n",
       "      <th>제주</th>\n",
       "      <th>광주</th>\n",
       "      <th>대구</th>\n",
       "    </tr>\n",
       "  </thead>\n",
       "  <tbody>\n",
       "    <tr>\n",
       "      <th>횟수</th>\n",
       "      <td>43</td>\n",
       "      <td>28</td>\n",
       "      <td>21</td>\n",
       "      <td>20</td>\n",
       "      <td>18</td>\n",
       "      <td>18</td>\n",
       "      <td>15</td>\n",
       "      <td>14</td>\n",
       "      <td>11</td>\n",
       "      <td>9</td>\n",
       "      <td>8</td>\n",
       "      <td>6</td>\n",
       "      <td>5</td>\n",
       "      <td>5</td>\n",
       "      <td>3</td>\n",
       "      <td>3</td>\n",
       "    </tr>\n",
       "  </tbody>\n",
       "</table>\n",
       "</div>"
      ],
      "text/plain": [
       "발생지  경기  경북  전남  충남  경남  서울  강원  충북  전북  인천  부산  울산  대전  제주  광주  대구\n",
       "횟수   43  28  21  20  18  18  15  14  11   9   8   6   5   5   3   3"
      ]
     },
     "execution_count": 11,
     "metadata": {},
     "output_type": "execute_result"
    }
   ],
   "source": [
    "test=hurtData.drop('년도',1)\n",
    "test=test.groupby(by=['발생지'], as_index=False).sum()\n",
    "test=test.sort_values(by='횟수', ascending=False)\n",
    "test=test[['발생지','횟수']]\n",
    "test.set_index(test['발생지'], inplace=True)\n",
    "test=test.drop('발생지',1)\n",
    "test=test.T\n",
    "#test.to_csv('Data/Processing/location.csv',encoding='euc-kr', index=True)\n",
    "test"
   ]
  },
  {
   "cell_type": "code",
   "execution_count": 12,
   "metadata": {},
   "outputs": [
    {
     "data": {
      "text/html": [
       "<div>\n",
       "<style scoped>\n",
       "    .dataframe tbody tr th:only-of-type {\n",
       "        vertical-align: middle;\n",
       "    }\n",
       "\n",
       "    .dataframe tbody tr th {\n",
       "        vertical-align: top;\n",
       "    }\n",
       "\n",
       "    .dataframe thead th {\n",
       "        text-align: right;\n",
       "    }\n",
       "</style>\n",
       "<table border=\"1\" class=\"dataframe\">\n",
       "  <thead>\n",
       "    <tr style=\"text-align: right;\">\n",
       "      <th>주야</th>\n",
       "      <th>야간</th>\n",
       "      <th>주간</th>\n",
       "    </tr>\n",
       "  </thead>\n",
       "  <tbody>\n",
       "    <tr>\n",
       "      <th>횟수</th>\n",
       "      <td>80</td>\n",
       "      <td>147</td>\n",
       "    </tr>\n",
       "  </tbody>\n",
       "</table>\n",
       "</div>"
      ],
      "text/plain": [
       "주야  야간   주간\n",
       "횟수  80  147"
      ]
     },
     "execution_count": 12,
     "metadata": {},
     "output_type": "execute_result"
    }
   ],
   "source": [
    "col_2=['주야','횟수']\n",
    "dayNight=hurtData[col_2]\n",
    "dayNight=dayNight.groupby(by=['주야'], as_index=False).sum()\n",
    "dayNight.set_index(dayNight['주야'], inplace=True)\n",
    "dayNight=dayNight.drop('주야',1)\n",
    "dayNight=dayNight.T\n",
    "#dayNight.to_csv('Data/Processing/dayAndNight.csv',encoding='euc-kr', index=True)\n",
    "dayNight"
   ]
  },
  {
   "cell_type": "code",
   "execution_count": 13,
   "metadata": {},
   "outputs": [
    {
     "data": {
      "text/html": [
       "<div>\n",
       "<style scoped>\n",
       "    .dataframe tbody tr th:only-of-type {\n",
       "        vertical-align: middle;\n",
       "    }\n",
       "\n",
       "    .dataframe tbody tr th {\n",
       "        vertical-align: top;\n",
       "    }\n",
       "\n",
       "    .dataframe thead th {\n",
       "        text-align: right;\n",
       "    }\n",
       "</style>\n",
       "<table border=\"1\" class=\"dataframe\">\n",
       "  <thead>\n",
       "    <tr style=\"text-align: right;\">\n",
       "      <th>요일</th>\n",
       "      <th>월</th>\n",
       "      <th>화</th>\n",
       "      <th>수</th>\n",
       "      <th>목</th>\n",
       "      <th>금</th>\n",
       "      <th>토</th>\n",
       "      <th>일</th>\n",
       "    </tr>\n",
       "  </thead>\n",
       "  <tbody>\n",
       "    <tr>\n",
       "      <th>횟수</th>\n",
       "      <td>26</td>\n",
       "      <td>31</td>\n",
       "      <td>34</td>\n",
       "      <td>30</td>\n",
       "      <td>37</td>\n",
       "      <td>40</td>\n",
       "      <td>29</td>\n",
       "    </tr>\n",
       "  </tbody>\n",
       "</table>\n",
       "</div>"
      ],
      "text/plain": [
       "요일   월   화   수   목   금   토   일\n",
       "횟수  26  31  34  30  37  40  29"
      ]
     },
     "execution_count": 13,
     "metadata": {},
     "output_type": "execute_result"
    }
   ],
   "source": [
    "col_2=['요일','횟수']\n",
    "weekChar=['월','화','수','목','금','토','일']\n",
    "week=hurtData[col_2]\n",
    "week=week.groupby(by=['요일'], as_index=False).sum()\n",
    "week.set_index(week['요일'], inplace=True)\n",
    "week=week.drop('요일',1)\n",
    "week=week.reindex(index=weekChar)\n",
    "week=week.T\n",
    "#week.to_csv('Data/Processing/week.csv',encoding='euc-kr', index=True)\n",
    "week"
   ]
  },
  {
   "cell_type": "code",
   "execution_count": 14,
   "metadata": {},
   "outputs": [
    {
     "data": {
      "text/html": [
       "<div>\n",
       "<style scoped>\n",
       "    .dataframe tbody tr th:only-of-type {\n",
       "        vertical-align: middle;\n",
       "    }\n",
       "\n",
       "    .dataframe tbody tr th {\n",
       "        vertical-align: top;\n",
       "    }\n",
       "\n",
       "    .dataframe thead th {\n",
       "        text-align: right;\n",
       "    }\n",
       "</style>\n",
       "<table border=\"1\" class=\"dataframe\">\n",
       "  <thead>\n",
       "    <tr style=\"text-align: right;\">\n",
       "      <th>사고유형</th>\n",
       "      <th>차대사람</th>\n",
       "      <th>차대차</th>\n",
       "      <th>차량단독</th>\n",
       "    </tr>\n",
       "  </thead>\n",
       "  <tbody>\n",
       "    <tr>\n",
       "      <th>횟수</th>\n",
       "      <td>8</td>\n",
       "      <td>199</td>\n",
       "      <td>20</td>\n",
       "    </tr>\n",
       "  </tbody>\n",
       "</table>\n",
       "</div>"
      ],
      "text/plain": [
       "사고유형  차대사람  차대차  차량단독\n",
       "횟수       8  199    20"
      ]
     },
     "execution_count": 14,
     "metadata": {},
     "output_type": "execute_result"
    }
   ],
   "source": [
    "col_2=['사고유형','횟수']\n",
    "accKind=hurtData[col_2]\n",
    "accKind=accKind.groupby(by=['사고유형'], as_index=False).sum()\n",
    "accKind.set_index(accKind['사고유형'], inplace=True)\n",
    "accKind=accKind.drop('사고유형',1)\n",
    "accKind=accKind.T\n",
    "#accKind.to_csv('Data/Processing/accKind.csv',encoding='euc-kr', index=True)\n",
    "accKind"
   ]
  },
  {
   "cell_type": "code",
   "execution_count": 15,
   "metadata": {},
   "outputs": [
    {
     "data": {
      "text/html": [
       "<div>\n",
       "<style scoped>\n",
       "    .dataframe tbody tr th:only-of-type {\n",
       "        vertical-align: middle;\n",
       "    }\n",
       "\n",
       "    .dataframe tbody tr th {\n",
       "        vertical-align: top;\n",
       "    }\n",
       "\n",
       "    .dataframe thead th {\n",
       "        text-align: right;\n",
       "    }\n",
       "</style>\n",
       "<table border=\"1\" class=\"dataframe\">\n",
       "  <thead>\n",
       "    <tr style=\"text-align: right;\">\n",
       "      <th>도로형태</th>\n",
       "      <th>교차로</th>\n",
       "      <th>기타</th>\n",
       "      <th>기타/불명</th>\n",
       "      <th>단일로</th>\n",
       "      <th>지하도로내</th>\n",
       "    </tr>\n",
       "  </thead>\n",
       "  <tbody>\n",
       "    <tr>\n",
       "      <th>횟수</th>\n",
       "      <td>55</td>\n",
       "      <td>2</td>\n",
       "      <td>4</td>\n",
       "      <td>165</td>\n",
       "      <td>1</td>\n",
       "    </tr>\n",
       "  </tbody>\n",
       "</table>\n",
       "</div>"
      ],
      "text/plain": [
       "도로형태  교차로  기타  기타/불명  단일로  지하도로내\n",
       "횟수     55   2      4  165      1"
      ]
     },
     "execution_count": 15,
     "metadata": {},
     "output_type": "execute_result"
    }
   ],
   "source": [
    "col_2=['도로형태','횟수']\n",
    "roadKind=hurtData[col_2]\n",
    "roadKind=roadKind.groupby(by=['도로형태'], as_index=False).sum()\n",
    "roadKind.set_index(roadKind['도로형태'], inplace=True)\n",
    "roadKind=roadKind.drop('도로형태',1)\n",
    "roadKind=roadKind.T\n",
    "#roadKind.to_csv('Data/Processing/roadKind.csv',encoding='euc-kr', index=True)\n",
    "roadKind"
   ]
  },
  {
   "cell_type": "code",
   "execution_count": 16,
   "metadata": {},
   "outputs": [
    {
     "data": {
      "text/html": [
       "<div>\n",
       "<style scoped>\n",
       "    .dataframe tbody tr th:only-of-type {\n",
       "        vertical-align: middle;\n",
       "    }\n",
       "\n",
       "    .dataframe tbody tr th {\n",
       "        vertical-align: top;\n",
       "    }\n",
       "\n",
       "    .dataframe thead th {\n",
       "        text-align: right;\n",
       "    }\n",
       "</style>\n",
       "<table border=\"1\" class=\"dataframe\">\n",
       "  <thead>\n",
       "    <tr style=\"text-align: right;\">\n",
       "      <th>법규위반</th>\n",
       "      <th>운전자법규위반</th>\n",
       "    </tr>\n",
       "  </thead>\n",
       "  <tbody>\n",
       "    <tr>\n",
       "      <th>횟수</th>\n",
       "      <td>227</td>\n",
       "    </tr>\n",
       "  </tbody>\n",
       "</table>\n",
       "</div>"
      ],
      "text/plain": [
       "법규위반  운전자법규위반\n",
       "횟수        227"
      ]
     },
     "execution_count": 16,
     "metadata": {},
     "output_type": "execute_result"
    }
   ],
   "source": [
    "col_2=['법규위반','횟수']\n",
    "violationLaw=hurtData[col_2]\n",
    "violationLaw=violationLaw.groupby(by=['법규위반'], as_index=False).sum()\n",
    "violationLaw.set_index(violationLaw['법규위반'], inplace=True)\n",
    "violationLaw=violationLaw.drop('법규위반',1)\n",
    "violationLaw=violationLaw.T\n",
    "#violationLaw.to_csv('Data/Processing/violationLaw.csv',encoding='euc-kr', index=True)\n",
    "violationLaw"
   ]
  },
  {
   "cell_type": "code",
   "execution_count": 17,
   "metadata": {},
   "outputs": [
    {
     "data": {
      "text/html": [
       "<div>\n",
       "<style scoped>\n",
       "    .dataframe tbody tr th:only-of-type {\n",
       "        vertical-align: middle;\n",
       "    }\n",
       "\n",
       "    .dataframe tbody tr th {\n",
       "        vertical-align: top;\n",
       "    }\n",
       "\n",
       "    .dataframe thead th {\n",
       "        text-align: right;\n",
       "    }\n",
       "</style>\n",
       "<table border=\"1\" class=\"dataframe\">\n",
       "  <thead>\n",
       "    <tr style=\"text-align: right;\">\n",
       "      <th>가해자</th>\n",
       "      <th>건설기계</th>\n",
       "      <th>농기계</th>\n",
       "      <th>승용차</th>\n",
       "      <th>승합차</th>\n",
       "      <th>이륜차</th>\n",
       "      <th>특수차</th>\n",
       "      <th>화물차</th>\n",
       "    </tr>\n",
       "  </thead>\n",
       "  <tbody>\n",
       "    <tr>\n",
       "      <th>횟수</th>\n",
       "      <td>10</td>\n",
       "      <td>1</td>\n",
       "      <td>69</td>\n",
       "      <td>100</td>\n",
       "      <td>1</td>\n",
       "      <td>1</td>\n",
       "      <td>45</td>\n",
       "    </tr>\n",
       "  </tbody>\n",
       "</table>\n",
       "</div>"
      ],
      "text/plain": [
       "가해자  건설기계  농기계  승용차  승합차  이륜차  특수차  화물차\n",
       "횟수     10    1   69  100    1    1   45"
      ]
     },
     "execution_count": 17,
     "metadata": {},
     "output_type": "execute_result"
    }
   ],
   "source": [
    "col_2=['가해자','횟수']\n",
    "perpetrator=hurtData[col_2]\n",
    "perpetrator=perpetrator.groupby(by=['가해자'], as_index=False).sum()\n",
    "perpetrator.set_index(perpetrator['가해자'], inplace=True)\n",
    "perpetrator=perpetrator.drop('가해자',1)\n",
    "perpetrator=perpetrator.T\n",
    "#perpetrator.to_csv('Data/Processing/perpetrator.csv',encoding='euc-kr', index=True)\n",
    "perpetrator"
   ]
  },
  {
   "cell_type": "code",
   "execution_count": 18,
   "metadata": {},
   "outputs": [
    {
     "data": {
      "text/html": [
       "<div>\n",
       "<style scoped>\n",
       "    .dataframe tbody tr th:only-of-type {\n",
       "        vertical-align: middle;\n",
       "    }\n",
       "\n",
       "    .dataframe tbody tr th {\n",
       "        vertical-align: top;\n",
       "    }\n",
       "\n",
       "    .dataframe thead th {\n",
       "        text-align: right;\n",
       "    }\n",
       "</style>\n",
       "<table border=\"1\" class=\"dataframe\">\n",
       "  <thead>\n",
       "    <tr style=\"text-align: right;\">\n",
       "      <th>피해자</th>\n",
       "      <th>건설기계</th>\n",
       "      <th>보행자</th>\n",
       "      <th>승용차</th>\n",
       "      <th>승합차</th>\n",
       "      <th>없음</th>\n",
       "      <th>이륜차</th>\n",
       "      <th>특수차</th>\n",
       "      <th>화물차</th>\n",
       "    </tr>\n",
       "  </thead>\n",
       "  <tbody>\n",
       "    <tr>\n",
       "      <th>횟수</th>\n",
       "      <td>5</td>\n",
       "      <td>8</td>\n",
       "      <td>68</td>\n",
       "      <td>81</td>\n",
       "      <td>20</td>\n",
       "      <td>1</td>\n",
       "      <td>3</td>\n",
       "      <td>41</td>\n",
       "    </tr>\n",
       "  </tbody>\n",
       "</table>\n",
       "</div>"
      ],
      "text/plain": [
       "피해자  건설기계  보행자  승용차  승합차  없음  이륜차  특수차  화물차\n",
       "횟수      5    8   68   81  20    1    3   41"
      ]
     },
     "execution_count": 18,
     "metadata": {},
     "output_type": "execute_result"
    }
   ],
   "source": [
    "col_2=['피해자','횟수']\n",
    "victim=hurtData[col_2]\n",
    "victim=victim.groupby(by=['피해자'], as_index=False).sum()\n",
    "victim.set_index(victim['피해자'], inplace=True)\n",
    "victim=victim.drop('피해자',1)\n",
    "victim=victim.T\n",
    "#victim.to_csv('Data/Processing/victim.csv',encoding='euc-kr', index=True)\n",
    "victim"
   ]
  },
  {
   "cell_type": "code",
   "execution_count": 19,
   "metadata": {},
   "outputs": [
    {
     "data": {
      "text/html": [
       "<div>\n",
       "<style scoped>\n",
       "    .dataframe tbody tr th:only-of-type {\n",
       "        vertical-align: middle;\n",
       "    }\n",
       "\n",
       "    .dataframe tbody tr th {\n",
       "        vertical-align: top;\n",
       "    }\n",
       "\n",
       "    .dataframe thead th {\n",
       "        text-align: right;\n",
       "    }\n",
       "</style>\n",
       "<table border=\"1\" class=\"dataframe\">\n",
       "  <thead>\n",
       "    <tr style=\"text-align: right;\">\n",
       "      <th>사망자수</th>\n",
       "      <th>1</th>\n",
       "      <th>2</th>\n",
       "      <th>3</th>\n",
       "      <th>4</th>\n",
       "      <th>5</th>\n",
       "      <th>6</th>\n",
       "      <th>8</th>\n",
       "    </tr>\n",
       "  </thead>\n",
       "  <tbody>\n",
       "    <tr>\n",
       "      <th>횟수</th>\n",
       "      <td>165</td>\n",
       "      <td>36</td>\n",
       "      <td>12</td>\n",
       "      <td>9</td>\n",
       "      <td>2</td>\n",
       "      <td>2</td>\n",
       "      <td>1</td>\n",
       "    </tr>\n",
       "  </tbody>\n",
       "</table>\n",
       "</div>"
      ],
      "text/plain": [
       "사망자수    1   2   3  4  5  6  8\n",
       "횟수    165  36  12  9  2  2  1"
      ]
     },
     "execution_count": 19,
     "metadata": {},
     "output_type": "execute_result"
    }
   ],
   "source": [
    "col_2=['사망자수','횟수']\n",
    "death=hurtData[col_2]\n",
    "death=death.groupby(by=['사망자수'], as_index=False).sum()\n",
    "death.set_index(death['사망자수'], inplace=True)\n",
    "death=death.drop('사망자수',1)\n",
    "death=death.T\n",
    "#death.to_csv('Data/Processing/death.csv',encoding='euc-kr', index=True)\n",
    "death"
   ]
  },
  {
   "cell_type": "code",
   "execution_count": 287,
   "metadata": {},
   "outputs": [
    {
     "data": {
      "text/html": [
       "<div>\n",
       "<style scoped>\n",
       "    .dataframe tbody tr th:only-of-type {\n",
       "        vertical-align: middle;\n",
       "    }\n",
       "\n",
       "    .dataframe tbody tr th {\n",
       "        vertical-align: top;\n",
       "    }\n",
       "\n",
       "    .dataframe thead th {\n",
       "        text-align: right;\n",
       "    }\n",
       "</style>\n",
       "<table border=\"1\" class=\"dataframe\">\n",
       "  <thead>\n",
       "    <tr style=\"text-align: right;\">\n",
       "      <th>부상자수</th>\n",
       "      <th>4</th>\n",
       "      <th>5</th>\n",
       "      <th>6</th>\n",
       "      <th>7</th>\n",
       "      <th>8</th>\n",
       "      <th>9</th>\n",
       "      <th>10</th>\n",
       "      <th>11</th>\n",
       "      <th>12</th>\n",
       "      <th>13</th>\n",
       "      <th>...</th>\n",
       "      <th>39</th>\n",
       "      <th>40</th>\n",
       "      <th>42</th>\n",
       "      <th>46</th>\n",
       "      <th>49</th>\n",
       "      <th>56</th>\n",
       "      <th>58</th>\n",
       "      <th>66</th>\n",
       "      <th>96</th>\n",
       "      <th>104</th>\n",
       "    </tr>\n",
       "  </thead>\n",
       "  <tbody>\n",
       "    <tr>\n",
       "      <th>횟수</th>\n",
       "      <td>1</td>\n",
       "      <td>1</td>\n",
       "      <td>1</td>\n",
       "      <td>2</td>\n",
       "      <td>8</td>\n",
       "      <td>34</td>\n",
       "      <td>42</td>\n",
       "      <td>20</td>\n",
       "      <td>14</td>\n",
       "      <td>10</td>\n",
       "      <td>...</td>\n",
       "      <td>2</td>\n",
       "      <td>1</td>\n",
       "      <td>2</td>\n",
       "      <td>1</td>\n",
       "      <td>1</td>\n",
       "      <td>1</td>\n",
       "      <td>1</td>\n",
       "      <td>1</td>\n",
       "      <td>1</td>\n",
       "      <td>1</td>\n",
       "    </tr>\n",
       "  </tbody>\n",
       "</table>\n",
       "<p>1 rows × 39 columns</p>\n",
       "</div>"
      ],
      "text/plain": [
       "부상자수  4    5    6    7    8    9    10   11   12   13   ...  39   40   42   \\\n",
       "횟수      1    1    1    2    8   34   42   20   14   10  ...    2    1    2   \n",
       "\n",
       "부상자수  46   49   56   58   66   96   104  \n",
       "횟수      1    1    1    1    1    1    1  \n",
       "\n",
       "[1 rows x 39 columns]"
      ]
     },
     "execution_count": 287,
     "metadata": {},
     "output_type": "execute_result"
    }
   ],
   "source": [
    "col_2=['부상자수','횟수']\n",
    "hurt=hurtData[col_2]\n",
    "hurt=hurt.groupby(by=['부상자수'], as_index=False).sum()\n",
    "hurt.set_index(hurt['부상자수'], inplace=True)\n",
    "hurt=hurt.drop('부상자수',1)\n",
    "hurt=hurt.T\n",
    "#hurt.to_csv('Data/Processing/hurt.csv',encoding='euc-kr', index=True)\n",
    "hurt"
   ]
  }
 ],
 "metadata": {
  "kernelspec": {
   "display_name": "env",
   "language": "python",
   "name": "env"
  },
  "language_info": {
   "codemirror_mode": {
    "name": "ipython",
    "version": 3
   },
   "file_extension": ".py",
   "mimetype": "text/x-python",
   "name": "python",
   "nbconvert_exporter": "python",
   "pygments_lexer": "ipython3",
   "version": "3.8.3"
  }
 },
 "nbformat": 4,
 "nbformat_minor": 4
}
