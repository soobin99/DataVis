{
 "cells": [
  {
   "cell_type": "code",
   "execution_count": 424,
   "metadata": {},
   "outputs": [
    {
     "ename": "ModuleNotFoundError",
     "evalue": "No module named 'seabron'",
     "output_type": "error",
     "traceback": [
      "\u001b[1;31m---------------------------------------------------------------------------\u001b[0m",
      "\u001b[1;31mModuleNotFoundError\u001b[0m                       Traceback (most recent call last)",
      "\u001b[1;32m<ipython-input-424-a48ad0979633>\u001b[0m in \u001b[0;36m<module>\u001b[1;34m\u001b[0m\n\u001b[0;32m      3\u001b[0m \u001b[1;32mimport\u001b[0m \u001b[0mmatplotlib\u001b[0m \u001b[1;32mas\u001b[0m \u001b[0mmpl\u001b[0m\u001b[1;33m\u001b[0m\u001b[1;33m\u001b[0m\u001b[0m\n\u001b[0;32m      4\u001b[0m \u001b[1;32mimport\u001b[0m \u001b[0mmatplotlib\u001b[0m\u001b[1;33m.\u001b[0m\u001b[0mpyplot\u001b[0m \u001b[1;32mas\u001b[0m \u001b[0mplt\u001b[0m\u001b[1;33m\u001b[0m\u001b[1;33m\u001b[0m\u001b[0m\n\u001b[1;32m----> 5\u001b[1;33m \u001b[1;32mimport\u001b[0m \u001b[0mseabron\u001b[0m \u001b[1;32mas\u001b[0m \u001b[0msns\u001b[0m\u001b[1;33m\u001b[0m\u001b[1;33m\u001b[0m\u001b[0m\n\u001b[0m",
      "\u001b[1;31mModuleNotFoundError\u001b[0m: No module named 'seabron'"
     ]
    }
   ],
   "source": [
    "import pandas as pd\n",
    "import numpy as np\n",
    "import matplotlib as mpl\n",
    "import matplotlib.pyplot as plt"
   ]
  },
  {
   "cell_type": "code",
   "execution_count": 2,
   "metadata": {},
   "outputs": [],
   "source": [
    "char=['midnight', 'one', 'two','three', 'four', 'five', 'six', 'seven',\n",
    "       'eight', 'nine', 'ten', 'eleven', 'twelve', 'thirteen',\n",
    "       'fourteen', 'fifteen',\n",
    "       'sixteen', 'seventeen', 'eighteen',\n",
    "       'nineteen', 'twenty', 'twenty_one',\n",
    "       'twenty_two', 'twenty_three']"
   ]
  },
  {
   "cell_type": "code",
   "execution_count": 432,
   "metadata": {},
   "outputs": [],
   "source": [
    "df=pd.read_csv('Data/Data.csv',encoding='CP949')"
   ]
  },
  {
   "cell_type": "code",
   "execution_count": 433,
   "metadata": {},
   "outputs": [
    {
     "data": {
      "text/html": [
       "<div>\n",
       "<style scoped>\n",
       "    .dataframe tbody tr th:only-of-type {\n",
       "        vertical-align: middle;\n",
       "    }\n",
       "\n",
       "    .dataframe tbody tr th {\n",
       "        vertical-align: top;\n",
       "    }\n",
       "\n",
       "    .dataframe thead th {\n",
       "        text-align: right;\n",
       "    }\n",
       "</style>\n",
       "<table border=\"1\" class=\"dataframe\">\n",
       "  <thead>\n",
       "    <tr style=\"text-align: right;\">\n",
       "      <th></th>\n",
       "      <th>use_mon</th>\n",
       "      <th>bus_route_no</th>\n",
       "      <th>stnd_bsst_id</th>\n",
       "      <th>bus_sta_nm</th>\n",
       "      <th>midnight_ride_num</th>\n",
       "      <th>midnight_alight_num</th>\n",
       "      <th>one_ride_num</th>\n",
       "      <th>one_alight_num</th>\n",
       "      <th>two_ride_num</th>\n",
       "      <th>two_alight_num</th>\n",
       "      <th>...</th>\n",
       "      <th>fifteen</th>\n",
       "      <th>sixteen</th>\n",
       "      <th>seventeen</th>\n",
       "      <th>eighteen</th>\n",
       "      <th>nineteen</th>\n",
       "      <th>twenty</th>\n",
       "      <th>twenty_one</th>\n",
       "      <th>twenty_two</th>\n",
       "      <th>twenty_three</th>\n",
       "      <th>total</th>\n",
       "    </tr>\n",
       "  </thead>\n",
       "  <tbody>\n",
       "    <tr>\n",
       "      <th>0</th>\n",
       "      <td>201701</td>\n",
       "      <td>100</td>\n",
       "      <td>110000324</td>\n",
       "      <td>하계미성아파트.을지병원</td>\n",
       "      <td>319</td>\n",
       "      <td>402</td>\n",
       "      <td>28</td>\n",
       "      <td>62</td>\n",
       "      <td>1</td>\n",
       "      <td>1</td>\n",
       "      <td>...</td>\n",
       "      <td>1047</td>\n",
       "      <td>1104</td>\n",
       "      <td>1110</td>\n",
       "      <td>1268</td>\n",
       "      <td>1570</td>\n",
       "      <td>1223</td>\n",
       "      <td>1186</td>\n",
       "      <td>1173</td>\n",
       "      <td>913</td>\n",
       "      <td>18898</td>\n",
       "    </tr>\n",
       "    <tr>\n",
       "      <th>1</th>\n",
       "      <td>201701</td>\n",
       "      <td>100</td>\n",
       "      <td>110000328</td>\n",
       "      <td>한성여객종점</td>\n",
       "      <td>16</td>\n",
       "      <td>94</td>\n",
       "      <td>5</td>\n",
       "      <td>8</td>\n",
       "      <td>0</td>\n",
       "      <td>1</td>\n",
       "      <td>...</td>\n",
       "      <td>111</td>\n",
       "      <td>122</td>\n",
       "      <td>126</td>\n",
       "      <td>144</td>\n",
       "      <td>149</td>\n",
       "      <td>127</td>\n",
       "      <td>122</td>\n",
       "      <td>117</td>\n",
       "      <td>123</td>\n",
       "      <td>2143</td>\n",
       "    </tr>\n",
       "    <tr>\n",
       "      <th>2</th>\n",
       "      <td>201701</td>\n",
       "      <td>100</td>\n",
       "      <td>110000334</td>\n",
       "      <td>세이브존스포츠센터</td>\n",
       "      <td>12</td>\n",
       "      <td>319</td>\n",
       "      <td>1</td>\n",
       "      <td>50</td>\n",
       "      <td>0</td>\n",
       "      <td>1</td>\n",
       "      <td>...</td>\n",
       "      <td>461</td>\n",
       "      <td>517</td>\n",
       "      <td>545</td>\n",
       "      <td>619</td>\n",
       "      <td>728</td>\n",
       "      <td>572</td>\n",
       "      <td>578</td>\n",
       "      <td>613</td>\n",
       "      <td>481</td>\n",
       "      <td>9114</td>\n",
       "    </tr>\n",
       "    <tr>\n",
       "      <th>3</th>\n",
       "      <td>201701</td>\n",
       "      <td>100</td>\n",
       "      <td>110000336</td>\n",
       "      <td>노원경찰서.혜성여고</td>\n",
       "      <td>5</td>\n",
       "      <td>319</td>\n",
       "      <td>2</td>\n",
       "      <td>51</td>\n",
       "      <td>0</td>\n",
       "      <td>2</td>\n",
       "      <td>...</td>\n",
       "      <td>382</td>\n",
       "      <td>482</td>\n",
       "      <td>475</td>\n",
       "      <td>495</td>\n",
       "      <td>720</td>\n",
       "      <td>609</td>\n",
       "      <td>584</td>\n",
       "      <td>622</td>\n",
       "      <td>529</td>\n",
       "      <td>8080</td>\n",
       "    </tr>\n",
       "    <tr>\n",
       "      <th>4</th>\n",
       "      <td>201701</td>\n",
       "      <td>100</td>\n",
       "      <td>110000276</td>\n",
       "      <td>상명초등학교</td>\n",
       "      <td>7</td>\n",
       "      <td>48</td>\n",
       "      <td>2</td>\n",
       "      <td>29</td>\n",
       "      <td>0</td>\n",
       "      <td>0</td>\n",
       "      <td>...</td>\n",
       "      <td>87</td>\n",
       "      <td>80</td>\n",
       "      <td>78</td>\n",
       "      <td>92</td>\n",
       "      <td>105</td>\n",
       "      <td>60</td>\n",
       "      <td>93</td>\n",
       "      <td>73</td>\n",
       "      <td>103</td>\n",
       "      <td>1579</td>\n",
       "    </tr>\n",
       "    <tr>\n",
       "      <th>...</th>\n",
       "      <td>...</td>\n",
       "      <td>...</td>\n",
       "      <td>...</td>\n",
       "      <td>...</td>\n",
       "      <td>...</td>\n",
       "      <td>...</td>\n",
       "      <td>...</td>\n",
       "      <td>...</td>\n",
       "      <td>...</td>\n",
       "      <td>...</td>\n",
       "      <td>...</td>\n",
       "      <td>...</td>\n",
       "      <td>...</td>\n",
       "      <td>...</td>\n",
       "      <td>...</td>\n",
       "      <td>...</td>\n",
       "      <td>...</td>\n",
       "      <td>...</td>\n",
       "      <td>...</td>\n",
       "      <td>...</td>\n",
       "      <td>...</td>\n",
       "    </tr>\n",
       "    <tr>\n",
       "      <th>1642782</th>\n",
       "      <td>202008</td>\n",
       "      <td>672</td>\n",
       "      <td>999800002</td>\n",
       "      <td>김포교통(종점가상)</td>\n",
       "      <td>0</td>\n",
       "      <td>0</td>\n",
       "      <td>0</td>\n",
       "      <td>0</td>\n",
       "      <td>0</td>\n",
       "      <td>0</td>\n",
       "      <td>...</td>\n",
       "      <td>0</td>\n",
       "      <td>0</td>\n",
       "      <td>0</td>\n",
       "      <td>0</td>\n",
       "      <td>2</td>\n",
       "      <td>0</td>\n",
       "      <td>0</td>\n",
       "      <td>1</td>\n",
       "      <td>0</td>\n",
       "      <td>6</td>\n",
       "    </tr>\n",
       "    <tr>\n",
       "      <th>1642783</th>\n",
       "      <td>202008</td>\n",
       "      <td>9404</td>\n",
       "      <td>999800003</td>\n",
       "      <td>구미동차고지(기점가상)</td>\n",
       "      <td>0</td>\n",
       "      <td>5</td>\n",
       "      <td>0</td>\n",
       "      <td>2</td>\n",
       "      <td>0</td>\n",
       "      <td>0</td>\n",
       "      <td>...</td>\n",
       "      <td>4</td>\n",
       "      <td>2</td>\n",
       "      <td>4</td>\n",
       "      <td>5</td>\n",
       "      <td>2</td>\n",
       "      <td>10</td>\n",
       "      <td>3</td>\n",
       "      <td>5</td>\n",
       "      <td>1</td>\n",
       "      <td>118</td>\n",
       "    </tr>\n",
       "    <tr>\n",
       "      <th>1642784</th>\n",
       "      <td>202008</td>\n",
       "      <td>9404</td>\n",
       "      <td>999800004</td>\n",
       "      <td>구미동차고지(종점가상)</td>\n",
       "      <td>0</td>\n",
       "      <td>12</td>\n",
       "      <td>0</td>\n",
       "      <td>3</td>\n",
       "      <td>0</td>\n",
       "      <td>0</td>\n",
       "      <td>...</td>\n",
       "      <td>1</td>\n",
       "      <td>5</td>\n",
       "      <td>2</td>\n",
       "      <td>1</td>\n",
       "      <td>2</td>\n",
       "      <td>1</td>\n",
       "      <td>2</td>\n",
       "      <td>3</td>\n",
       "      <td>9</td>\n",
       "      <td>69</td>\n",
       "    </tr>\n",
       "    <tr>\n",
       "      <th>1642785</th>\n",
       "      <td>202008</td>\n",
       "      <td>9701</td>\n",
       "      <td>999800005</td>\n",
       "      <td>가좌동종점(종점가상)</td>\n",
       "      <td>0</td>\n",
       "      <td>6</td>\n",
       "      <td>0</td>\n",
       "      <td>2</td>\n",
       "      <td>0</td>\n",
       "      <td>1</td>\n",
       "      <td>...</td>\n",
       "      <td>1</td>\n",
       "      <td>2</td>\n",
       "      <td>3</td>\n",
       "      <td>1</td>\n",
       "      <td>1</td>\n",
       "      <td>1</td>\n",
       "      <td>0</td>\n",
       "      <td>1</td>\n",
       "      <td>0</td>\n",
       "      <td>48</td>\n",
       "    </tr>\n",
       "    <tr>\n",
       "      <th>1642786</th>\n",
       "      <td>202008</td>\n",
       "      <td>9707</td>\n",
       "      <td>999800005</td>\n",
       "      <td>가좌동종점(종점가상)</td>\n",
       "      <td>0</td>\n",
       "      <td>8</td>\n",
       "      <td>0</td>\n",
       "      <td>4</td>\n",
       "      <td>0</td>\n",
       "      <td>3</td>\n",
       "      <td>...</td>\n",
       "      <td>2</td>\n",
       "      <td>2</td>\n",
       "      <td>4</td>\n",
       "      <td>3</td>\n",
       "      <td>0</td>\n",
       "      <td>2</td>\n",
       "      <td>0</td>\n",
       "      <td>1</td>\n",
       "      <td>0</td>\n",
       "      <td>64</td>\n",
       "    </tr>\n",
       "  </tbody>\n",
       "</table>\n",
       "<p>1642787 rows × 77 columns</p>\n",
       "</div>"
      ],
      "text/plain": [
       "         use_mon bus_route_no  stnd_bsst_id    bus_sta_nm  midnight_ride_num  \\\n",
       "0         201701          100     110000324  하계미성아파트.을지병원                319   \n",
       "1         201701          100     110000328        한성여객종점                 16   \n",
       "2         201701          100     110000334     세이브존스포츠센터                 12   \n",
       "3         201701          100     110000336    노원경찰서.혜성여고                  5   \n",
       "4         201701          100     110000276        상명초등학교                  7   \n",
       "...          ...          ...           ...           ...                ...   \n",
       "1642782   202008          672     999800002    김포교통(종점가상)                  0   \n",
       "1642783   202008         9404     999800003  구미동차고지(기점가상)                  0   \n",
       "1642784   202008         9404     999800004  구미동차고지(종점가상)                  0   \n",
       "1642785   202008         9701     999800005   가좌동종점(종점가상)                  0   \n",
       "1642786   202008         9707     999800005   가좌동종점(종점가상)                  0   \n",
       "\n",
       "         midnight_alight_num  one_ride_num  one_alight_num  two_ride_num  \\\n",
       "0                        402            28              62             1   \n",
       "1                         94             5               8             0   \n",
       "2                        319             1              50             0   \n",
       "3                        319             2              51             0   \n",
       "4                         48             2              29             0   \n",
       "...                      ...           ...             ...           ...   \n",
       "1642782                    0             0               0             0   \n",
       "1642783                    5             0               2             0   \n",
       "1642784                   12             0               3             0   \n",
       "1642785                    6             0               2             0   \n",
       "1642786                    8             0               4             0   \n",
       "\n",
       "         two_alight_num  ...  fifteen  sixteen  seventeen  eighteen  nineteen  \\\n",
       "0                     1  ...     1047     1104       1110      1268      1570   \n",
       "1                     1  ...      111      122        126       144       149   \n",
       "2                     1  ...      461      517        545       619       728   \n",
       "3                     2  ...      382      482        475       495       720   \n",
       "4                     0  ...       87       80         78        92       105   \n",
       "...                 ...  ...      ...      ...        ...       ...       ...   \n",
       "1642782               0  ...        0        0          0         0         2   \n",
       "1642783               0  ...        4        2          4         5         2   \n",
       "1642784               0  ...        1        5          2         1         2   \n",
       "1642785               1  ...        1        2          3         1         1   \n",
       "1642786               3  ...        2        2          4         3         0   \n",
       "\n",
       "         twenty  twenty_one  twenty_two  twenty_three  total  \n",
       "0          1223        1186        1173           913  18898  \n",
       "1           127         122         117           123   2143  \n",
       "2           572         578         613           481   9114  \n",
       "3           609         584         622           529   8080  \n",
       "4            60          93          73           103   1579  \n",
       "...         ...         ...         ...           ...    ...  \n",
       "1642782       0           0           1             0      6  \n",
       "1642783      10           3           5             1    118  \n",
       "1642784       1           2           3             9     69  \n",
       "1642785       1           0           1             0     48  \n",
       "1642786       2           0           1             0     64  \n",
       "\n",
       "[1642787 rows x 77 columns]"
      ]
     },
     "execution_count": 433,
     "metadata": {},
     "output_type": "execute_result"
    }
   ],
   "source": [
    "df"
   ]
  },
  {
   "cell_type": "code",
   "execution_count": 42,
   "metadata": {},
   "outputs": [],
   "source": [
    "def convertIntColumns(df) :\n",
    "    for i in range(0,24) :\n",
    "        ch=char[i]\n",
    "        path=ch+'_ride_num'\n",
    "        path2=ch+'_alight_num'\n",
    "        \n",
    "        df=df.astype({\n",
    "            ch : int,\n",
    "            path : int,\n",
    "            path2 : int\n",
    "        })\n",
    "    return df"
   ]
  },
  {
   "cell_type": "code",
   "execution_count": null,
   "metadata": {},
   "outputs": [],
   "source": [
    "test=df[['bus_sta_nm','bus_route_no']].groupby(by=['bus_sta_nm'], as_index=False).count()"
   ]
  },
  {
   "cell_type": "code",
   "execution_count": 97,
   "metadata": {},
   "outputs": [
    {
     "name": "stderr",
     "output_type": "stream",
     "text": [
      "C:\\Users\\SoobinYim\\anaconda3\\envs\\env\\lib\\site-packages\\numpy\\core\\_asarray.py:83: VisibleDeprecationWarning: Creating an ndarray from ragged nested sequences (which is a list-or-tuple of lists-or-tuples-or ndarrays with different lengths or shapes) is deprecated. If you meant to do this, you must specify 'dtype=object' when creating the ndarray\n",
      "  return array(a, dtype, copy=False, order=order)\n"
     ]
    }
   ],
   "source": [
    "#달별로 분할\n",
    "dataMonthlist=[]\n",
    "for i in range(2017,2021):\n",
    "    if(i==2020) :\n",
    "        for j in range(1,9):\n",
    "            dataMonthlist.append(df[df['use_mon'].isin([str(i)+str(0)+str(j)])])\n",
    "    else :\n",
    "        for j in range(1,10):\n",
    "            dataMonthlist.append(df[df['use_mon'].isin([str(i)+str(0)+str(j)])])\n",
    "        for j in range(10,13):\n",
    "            dataMonthlist.append(df[df['use_mon'].isin([str(i)+str(j)])])\n",
    "dataMonthlist=np.asarray(dataMonthlist)"
   ]
  },
  {
   "cell_type": "code",
   "execution_count": 275,
   "metadata": {},
   "outputs": [
    {
     "name": "stderr",
     "output_type": "stream",
     "text": [
      "C:\\Users\\SoobinYim\\anaconda3\\envs\\env\\lib\\site-packages\\numpy\\core\\_asarray.py:83: VisibleDeprecationWarning: Creating an ndarray from ragged nested sequences (which is a list-or-tuple of lists-or-tuples-or ndarrays with different lengths or shapes) is deprecated. If you meant to do this, you must specify 'dtype=object' when creating the ndarray\n",
      "  return array(a, dtype, copy=False, order=order)\n"
     ]
    }
   ],
   "source": [
    "#정류장의 버스 종류별 승하차 인원수 -> 버스 수 구하기\n",
    "showCount=[]\n",
    "for i in dataMonthlist :\n",
    "    showCount.append(i[['bus_sta_nm','bus_route_no','total']].groupby(by=['bus_sta_nm','bus_route_no'], as_index=False).sum())\n",
    "showCount=np.asarray(showCount)"
   ]
  },
  {
   "cell_type": "code",
   "execution_count": 277,
   "metadata": {},
   "outputs": [],
   "source": [
    "showCount_1=[]\n",
    "for i in showCount :\n",
    "    tmp=i[['bus_sta_nm','bus_route_no']].groupby(by=['bus_sta_nm'], as_index=False).count()\n",
    "    tmp.columns=['정류장','busKinds']\n",
    "    tmp.set_index(tmp['정류장'],inplace=True)\n",
    "    \n",
    "    \n",
    "    tmp.columns=['busStop','버스 종류']\n",
    "    tmp=tmp.drop('busStop',1)\n",
    "    tmp=tmp.sort_values(by=['버스 종류'], axis=0, ascending=False)\n",
    "    showCount_1.append(tmp)\n",
    "showCount_1=np.asarray(showCount_1)"
   ]
  },
  {
   "cell_type": "code",
   "execution_count": 278,
   "metadata": {},
   "outputs": [
    {
     "data": {
      "text/html": [
       "<div>\n",
       "<style scoped>\n",
       "    .dataframe tbody tr th:only-of-type {\n",
       "        vertical-align: middle;\n",
       "    }\n",
       "\n",
       "    .dataframe tbody tr th {\n",
       "        vertical-align: top;\n",
       "    }\n",
       "\n",
       "    .dataframe thead th {\n",
       "        text-align: right;\n",
       "    }\n",
       "</style>\n",
       "<table border=\"1\" class=\"dataframe\">\n",
       "  <thead>\n",
       "    <tr style=\"text-align: right;\">\n",
       "      <th></th>\n",
       "      <th>버스 종류</th>\n",
       "    </tr>\n",
       "    <tr>\n",
       "      <th>정류장</th>\n",
       "      <th></th>\n",
       "    </tr>\n",
       "  </thead>\n",
       "  <tbody>\n",
       "    <tr>\n",
       "      <th>서울역버스환승센터</th>\n",
       "      <td>51</td>\n",
       "    </tr>\n",
       "    <tr>\n",
       "      <th>숭례문</th>\n",
       "      <td>44</td>\n",
       "    </tr>\n",
       "    <tr>\n",
       "      <th>현대아파트</th>\n",
       "      <td>43</td>\n",
       "    </tr>\n",
       "    <tr>\n",
       "      <th>우성아파트</th>\n",
       "      <td>31</td>\n",
       "    </tr>\n",
       "    <tr>\n",
       "      <th>미아사거리역</th>\n",
       "      <td>27</td>\n",
       "    </tr>\n",
       "    <tr>\n",
       "      <th>...</th>\n",
       "      <td>...</td>\n",
       "    </tr>\n",
       "    <tr>\n",
       "      <th>영신고등학교</th>\n",
       "      <td>1</td>\n",
       "    </tr>\n",
       "    <tr>\n",
       "      <th>영신약국</th>\n",
       "      <td>1</td>\n",
       "    </tr>\n",
       "    <tr>\n",
       "      <th>영신여객차고지(우이동종점)</th>\n",
       "      <td>1</td>\n",
       "    </tr>\n",
       "    <tr>\n",
       "      <th>마포16번종점</th>\n",
       "      <td>1</td>\n",
       "    </tr>\n",
       "    <tr>\n",
       "      <th>서울시립대</th>\n",
       "      <td>1</td>\n",
       "    </tr>\n",
       "  </tbody>\n",
       "</table>\n",
       "<p>8054 rows × 1 columns</p>\n",
       "</div>"
      ],
      "text/plain": [
       "                버스 종류\n",
       "정류장                  \n",
       "서울역버스환승센터          51\n",
       "숭례문                44\n",
       "현대아파트              43\n",
       "우성아파트              31\n",
       "미아사거리역             27\n",
       "...               ...\n",
       "영신고등학교              1\n",
       "영신약국                1\n",
       "영신여객차고지(우이동종점)      1\n",
       "마포16번종점             1\n",
       "서울시립대               1\n",
       "\n",
       "[8054 rows x 1 columns]"
      ]
     },
     "execution_count": 278,
     "metadata": {},
     "output_type": "execute_result"
    }
   ],
   "source": [
    "showCount_1[40]"
   ]
  },
  {
   "cell_type": "code",
   "execution_count": 279,
   "metadata": {},
   "outputs": [
    {
     "name": "stderr",
     "output_type": "stream",
     "text": [
      "C:\\Users\\SoobinYim\\anaconda3\\envs\\env\\lib\\site-packages\\numpy\\core\\_asarray.py:83: VisibleDeprecationWarning: Creating an ndarray from ragged nested sequences (which is a list-or-tuple of lists-or-tuples-or ndarrays with different lengths or shapes) is deprecated. If you meant to do this, you must specify 'dtype=object' when creating the ndarray\n",
      "  return array(a, dtype, copy=False, order=order)\n"
     ]
    }
   ],
   "source": [
    "#정류장별 bus 수 count -> .count 사용\n",
    "showBusCount=[]\n",
    "\n",
    "for i in dataMonthlist :  \n",
    "    tmp=i[['bus_sta_nm','bus_route_no']].groupby(by=['bus_sta_nm'], as_index=False).count()\n",
    "    tmp.columns=['정류장','busCount']\n",
    "    tmp.set_index(tmp['정류장'],inplace=True)\n",
    "    \n",
    "    tmp.columns=['busStop','버스 수']\n",
    "    tmp=tmp.drop('busStop',1)\n",
    "    tmp=tmp.sort_values(by=['버스 수'], axis=0, ascending=False)\n",
    "    showBusCount.append(tmp)\n",
    "showBusCount = np.asarray(showBusCount)"
   ]
  },
  {
   "cell_type": "code",
   "execution_count": 280,
   "metadata": {},
   "outputs": [
    {
     "data": {
      "text/html": [
       "<div>\n",
       "<style scoped>\n",
       "    .dataframe tbody tr th:only-of-type {\n",
       "        vertical-align: middle;\n",
       "    }\n",
       "\n",
       "    .dataframe tbody tr th {\n",
       "        vertical-align: top;\n",
       "    }\n",
       "\n",
       "    .dataframe thead th {\n",
       "        text-align: right;\n",
       "    }\n",
       "</style>\n",
       "<table border=\"1\" class=\"dataframe\">\n",
       "  <thead>\n",
       "    <tr style=\"text-align: right;\">\n",
       "      <th></th>\n",
       "      <th>버스 수</th>\n",
       "    </tr>\n",
       "    <tr>\n",
       "      <th>정류장</th>\n",
       "      <th></th>\n",
       "    </tr>\n",
       "  </thead>\n",
       "  <tbody>\n",
       "    <tr>\n",
       "      <th>서울역버스환승센터</th>\n",
       "      <td>68</td>\n",
       "    </tr>\n",
       "    <tr>\n",
       "      <th>현대아파트</th>\n",
       "      <td>62</td>\n",
       "    </tr>\n",
       "    <tr>\n",
       "      <th>미아사거리역</th>\n",
       "      <td>60</td>\n",
       "    </tr>\n",
       "    <tr>\n",
       "      <th>종로2가</th>\n",
       "      <td>58</td>\n",
       "    </tr>\n",
       "    <tr>\n",
       "      <th>우성아파트</th>\n",
       "      <td>56</td>\n",
       "    </tr>\n",
       "    <tr>\n",
       "      <th>...</th>\n",
       "      <td>...</td>\n",
       "    </tr>\n",
       "    <tr>\n",
       "      <th>성동보건분소앞</th>\n",
       "      <td>1</td>\n",
       "    </tr>\n",
       "    <tr>\n",
       "      <th>성동보건소</th>\n",
       "      <td>1</td>\n",
       "    </tr>\n",
       "    <tr>\n",
       "      <th>성락교회크리스천선교센터</th>\n",
       "      <td>1</td>\n",
       "    </tr>\n",
       "    <tr>\n",
       "      <th>성북참노인전문병원</th>\n",
       "      <td>1</td>\n",
       "    </tr>\n",
       "    <tr>\n",
       "      <th>힐튼호텔.현대아파트</th>\n",
       "      <td>1</td>\n",
       "    </tr>\n",
       "  </tbody>\n",
       "</table>\n",
       "<p>7849 rows × 1 columns</p>\n",
       "</div>"
      ],
      "text/plain": [
       "              버스 수\n",
       "정류장               \n",
       "서울역버스환승센터       68\n",
       "현대아파트           62\n",
       "미아사거리역          60\n",
       "종로2가            58\n",
       "우성아파트           56\n",
       "...            ...\n",
       "성동보건분소앞          1\n",
       "성동보건소            1\n",
       "성락교회크리스천선교센터     1\n",
       "성북참노인전문병원        1\n",
       "힐튼호텔.현대아파트       1\n",
       "\n",
       "[7849 rows x 1 columns]"
      ]
     },
     "execution_count": 280,
     "metadata": {},
     "output_type": "execute_result"
    }
   ],
   "source": [
    "showBusCount[1]"
   ]
  },
  {
   "cell_type": "code",
   "execution_count": 281,
   "metadata": {},
   "outputs": [
    {
     "name": "stderr",
     "output_type": "stream",
     "text": [
      "C:\\Users\\SoobinYim\\anaconda3\\envs\\env\\lib\\site-packages\\numpy\\core\\_asarray.py:83: VisibleDeprecationWarning: Creating an ndarray from ragged nested sequences (which is a list-or-tuple of lists-or-tuples-or ndarrays with different lengths or shapes) is deprecated. If you meant to do this, you must specify 'dtype=object' when creating the ndarray\n",
      "  return array(a, dtype, copy=False, order=order)\n"
     ]
    }
   ],
   "source": [
    "#정류장 별 유동인구 수 count -> total에 sum사용\n",
    "showPersonCount=[]\n",
    "for i in dataMonthlist :    \n",
    "    tmp=i[['bus_sta_nm','total']].groupby(by=['bus_sta_nm'], as_index=False).sum()\n",
    "    tmp.columns=['정류장','personCount']\n",
    "    \n",
    "    tmp.set_index(tmp['정류장'],inplace=True)\n",
    "    tmp=tmp.sort_values(by=['personCount'], axis=0, ascending=False)\n",
    "    \n",
    "    tmp.columns=['busStop','이용자 수']\n",
    "    tmp=tmp.drop('busStop',1)\n",
    "    tmp=tmp.sort_values(by=['이용자 수'], axis=0, ascending=False)\n",
    "    showPersonCount.append(tmp)\n",
    "showPersonCount=np.asarray(showPersonCount)"
   ]
  },
  {
   "cell_type": "code",
   "execution_count": 361,
   "metadata": {},
   "outputs": [
    {
     "data": {
      "text/plain": [
       "<function matplotlib.pyplot.show(*args, **kw)>"
      ]
     },
     "execution_count": 361,
     "metadata": {},
     "output_type": "execute_result"
    },
    {
     "data": {
      "image/png": "[encoded data removed]",
      "text/plain": [
       "<Figure size 432x288 with 1 Axes>"
      ]
     },
     "metadata": {
      "needs_background": "light"
     },
     "output_type": "display_data"
    }
   ],
   "source": [
    "test=showPersonCount[10]\n",
    "test=test.iloc[0:30]\n",
    "test.plot(kind='bar', title=\"이용자 수가 많은 정거장\")\n",
    "plt.xticks(rotation=90)\n",
    "plt.show"
   ]
  },
  {
   "cell_type": "code",
   "execution_count": 372,
   "metadata": {},
   "outputs": [],
   "source": [
    "from sklearn.preprocessing import MinMaxScaler\n",
    "scaler=MinMaxScaler()"
   ]
  },
  {
   "cell_type": "code",
   "execution_count": 409,
   "metadata": {},
   "outputs": [
    {
     "name": "stderr",
     "output_type": "stream",
     "text": [
      "C:\\Users\\SoobinYim\\anaconda3\\envs\\env\\lib\\site-packages\\numpy\\core\\_asarray.py:83: VisibleDeprecationWarning: Creating an ndarray from ragged nested sequences (which is a list-or-tuple of lists-or-tuples-or ndarrays with different lengths or shapes) is deprecated. If you meant to do this, you must specify 'dtype=object' when creating the ndarray\n",
      "  return array(a, dtype, copy=False, order=order)\n"
     ]
    }
   ],
   "source": [
    "mergedData=[]\n",
    "for i in range(0,len(showCount_1)):\n",
    "    df_left=showCount_1[i]\n",
    "    df_right=showPersonCount[i]\n",
    "    df_left[:]=scaler.fit_transform(df_left[:])\n",
    "    df_right[:]=scaler.fit_transform(df_right[:])\n",
    "    mergeData=pd.merge(df_left,df_right,left_index=True,right_index=True,how='right')\n",
    "    mergedData.append(mergeData)\n",
    "mergedData=np.asarray(mergedData)"
   ]
  },
  {
   "cell_type": "code",
   "execution_count": 394,
   "metadata": {},
   "outputs": [],
   "source": [
    "for i in range(0,len(mergedData)):\n",
    "    test=mergedData[i]\n",
    "    mergedData[i]=test.iloc[0:100]"
   ]
  },
  {
   "cell_type": "code",
   "execution_count": 395,
   "metadata": {},
   "outputs": [
    {
     "data": {
      "text/plain": [
       "<function matplotlib.pyplot.show(*args, **kw)>"
      ]
     },
     "execution_count": 395,
     "metadata": {},
     "output_type": "execute_result"
    },
    {
     "data": {
      "image/png": "[encoded data removed]",
      "text/plain": [
       "<Figure size 432x288 with 1 Axes>"
      ]
     },
     "metadata": {
      "needs_background": "light"
     },
     "output_type": "display_data"
    }
   ],
   "source": [
    "mergedData[10].plot(kind='bar', title=\"버스 종류가 많은 정류장의 이용자 수\")\n",
    "plt.xticks(rotation=90)\n",
    "plt.show"
   ]
  },
  {
   "cell_type": "code",
   "execution_count": 410,
   "metadata": {},
   "outputs": [
    {
     "name": "stderr",
     "output_type": "stream",
     "text": [
      "C:\\Users\\SoobinYim\\anaconda3\\envs\\env\\lib\\site-packages\\numpy\\core\\_asarray.py:83: VisibleDeprecationWarning: Creating an ndarray from ragged nested sequences (which is a list-or-tuple of lists-or-tuples-or ndarrays with different lengths or shapes) is deprecated. If you meant to do this, you must specify 'dtype=object' when creating the ndarray\n",
      "  return array(a, dtype, copy=False, order=order)\n"
     ]
    }
   ],
   "source": [
    "mergedData2=[]\n",
    "for i in range(0,len(showCount_1)):\n",
    "    df_left=showBusCount[i]\n",
    "    df_right=showPersonCount[i]\n",
    "    df_left[:]=scaler.fit_transform(df_left[:])\n",
    "    df_right[:]=scaler.fit_transform(df_right[:])\n",
    "    mergeData=pd.merge(df_left,df_right,left_index=True,right_index=True,how='right')\n",
    "    mergedData2.append(mergeData)\n",
    "mergedData2=np.asarray(mergedData2)"
   ]
  },
  {
   "cell_type": "code",
   "execution_count": 407,
   "metadata": {},
   "outputs": [],
   "source": [
    "for i in range(0,len(mergedData2)):\n",
    "    test=mergedData2[i]\n",
    "    \n",
    "    mergedData2[i]=test.iloc[0:200]"
   ]
  },
  {
   "cell_type": "code",
   "execution_count": 408,
   "metadata": {},
   "outputs": [
    {
     "data": {
      "text/plain": [
       "<function matplotlib.pyplot.show(*args, **kw)>"
      ]
     },
     "execution_count": 408,
     "metadata": {},
     "output_type": "execute_result"
    },
    {
     "data": {
      "image/png": "[encoded data removed]",
      "text/plain": [
       "<Figure size 432x288 with 1 Axes>"
      ]
     },
     "metadata": {
      "needs_background": "light"
     },
     "output_type": "display_data"
    }
   ],
   "source": [
    "mergedData2[10].plot(kind='bar', title=\"버스 수가 많은 정류장의 이용자 수\")\n",
    "plt.xticks(rotation=90)\n",
    "plt.show"
   ]
  },
  {
   "cell_type": "code",
   "execution_count": null,
   "metadata": {},
   "outputs": [],
   "source": [
    "mergedData3=[]\n",
    "for i in range(0,len(showCount_1)):\n",
    "    df_left=mergedData[i]\n",
    "    df_right=showBusCount[i]\n",
    "    df_left[:]=scaler.fit_transform(df_left[:])\n",
    "    df_right[:]=scaler.fit_transform(df_right[:])\n",
    "    mergeData=pd.merge(df_left,df_right,left_index=True,right_index=True,how='left')\n",
    "    \n",
    "    mergedData3.append(mergeData)\n",
    "mergedData3=np.asarray(mergedData3)"
   ]
  },
  {
   "cell_type": "code",
   "execution_count": null,
   "metadata": {},
   "outputs": [],
   "source": [
    "for i in range(0,len(mergedData3)):\n",
    "    test=mergedData3[i]\n",
    "    mergedData3[i]=test.iloc[0:50]"
   ]
  },
  {
   "cell_type": "code",
   "execution_count": null,
   "metadata": {},
   "outputs": [],
   "source": [
    "mergedData3[20].plot(kind='bar', title=\"버스 수가 많은 정류장의 이용자 수\")\n",
    "plt.xticks(rotation=90)\n",
    "plt.show"
   ]
  },
  {
   "cell_type": "code",
   "execution_count": null,
   "metadata": {},
   "outputs": [],
   "source": [
    "yearKindsData=[]\n",
    "for i in range(2017,2020,1) :\n",
    "    yearKindsData.append(pd.concat(showCount_1[(i-2017)*12:(i-2017)*12+12],axis=0,ignore_index=True))\n",
    "yearKindsData.append(pd.concat(showCount_1[(2020-2017)*12:len(showCount_1)],axis=0,ignore_index=True))\n",
    "yearKindsData=np.asarray(yearKindsData)"
   ]
  },
  {
   "cell_type": "code",
   "execution_count": null,
   "metadata": {},
   "outputs": [],
   "source": [
    "yearCountData=[]\n",
    "for i in range(2017,2020,1) :\n",
    "    yearCountData.append(pd.concat(showBusCount[(i-2017)*12:(i-2017)*12+12],axis=0,ignore_index=True))\n",
    "yearCountData.append(pd.concat(showBusCount[(2020-2017)*12:len(showBusCount)],axis=0,ignore_index=True))\n",
    "yearCountData=np.asarray(yearCountData)"
   ]
  },
  {
   "cell_type": "code",
   "execution_count": 178,
   "metadata": {},
   "outputs": [
    {
     "name": "stderr",
     "output_type": "stream",
     "text": [
      "C:\\Users\\SoobinYim\\anaconda3\\envs\\env\\lib\\site-packages\\numpy\\core\\_asarray.py:83: VisibleDeprecationWarning: Creating an ndarray from ragged nested sequences (which is a list-or-tuple of lists-or-tuples-or ndarrays with different lengths or shapes) is deprecated. If you meant to do this, you must specify 'dtype=object' when creating the ndarray\n",
      "  return array(a, dtype, copy=False, order=order)\n"
     ]
    }
   ],
   "source": [
    "yearPersonData=[]\n",
    "for i in range(2017,2020,1) :\n",
    "    yearPersonData.append(pd.concat(showPersonCount[(i-2017)*12:(i-2017)*12+12],axis=0,ignore_index=True))\n",
    "yearPersonData.append(pd.concat(showPersonCount[(2020-2017)*12:len(showPersonCount)],axis=0,ignore_index=True))\n",
    "yearPersonData=np.asarray(yearPersonData)"
   ]
  },
  {
   "cell_type": "code",
   "execution_count": 180,
   "metadata": {},
   "outputs": [
    {
     "data": {
      "text/html": [
       "<div>\n",
       "<style scoped>\n",
       "    .dataframe tbody tr th:only-of-type {\n",
       "        vertical-align: middle;\n",
       "    }\n",
       "\n",
       "    .dataframe tbody tr th {\n",
       "        vertical-align: top;\n",
       "    }\n",
       "\n",
       "    .dataframe thead th {\n",
       "        text-align: right;\n",
       "    }\n",
       "</style>\n",
       "<table border=\"1\" class=\"dataframe\">\n",
       "  <thead>\n",
       "    <tr style=\"text-align: right;\">\n",
       "      <th></th>\n",
       "      <th>date</th>\n",
       "      <th>busStopId</th>\n",
       "      <th>personCount</th>\n",
       "    </tr>\n",
       "  </thead>\n",
       "  <tbody>\n",
       "    <tr>\n",
       "      <th>0</th>\n",
       "      <td>202001</td>\n",
       "      <td>홍대입구역</td>\n",
       "      <td>1206960</td>\n",
       "    </tr>\n",
       "    <tr>\n",
       "      <th>1</th>\n",
       "      <td>202001</td>\n",
       "      <td>미아사거리역</td>\n",
       "      <td>1193633</td>\n",
       "    </tr>\n",
       "    <tr>\n",
       "      <th>2</th>\n",
       "      <td>202001</td>\n",
       "      <td>고속터미널</td>\n",
       "      <td>1045785</td>\n",
       "    </tr>\n",
       "    <tr>\n",
       "      <th>3</th>\n",
       "      <td>202001</td>\n",
       "      <td>구로디지털단지역</td>\n",
       "      <td>1038583</td>\n",
       "    </tr>\n",
       "    <tr>\n",
       "      <th>4</th>\n",
       "      <td>202001</td>\n",
       "      <td>신도림역</td>\n",
       "      <td>1018484</td>\n",
       "    </tr>\n",
       "    <tr>\n",
       "      <th>...</th>\n",
       "      <td>...</td>\n",
       "      <td>...</td>\n",
       "      <td>...</td>\n",
       "    </tr>\n",
       "    <tr>\n",
       "      <th>52469</th>\n",
       "      <td>202008</td>\n",
       "      <td>중앙잔디광장</td>\n",
       "      <td>2</td>\n",
       "    </tr>\n",
       "    <tr>\n",
       "      <th>52470</th>\n",
       "      <td>202008</td>\n",
       "      <td>한강대교(가상)</td>\n",
       "      <td>1</td>\n",
       "    </tr>\n",
       "    <tr>\n",
       "      <th>52471</th>\n",
       "      <td>202008</td>\n",
       "      <td>성산대교(가상)</td>\n",
       "      <td>1</td>\n",
       "    </tr>\n",
       "    <tr>\n",
       "      <th>52472</th>\n",
       "      <td>202008</td>\n",
       "      <td>한남대교남단(가상)</td>\n",
       "      <td>1</td>\n",
       "    </tr>\n",
       "    <tr>\n",
       "      <th>52473</th>\n",
       "      <td>202008</td>\n",
       "      <td>동작대교(가상)</td>\n",
       "      <td>1</td>\n",
       "    </tr>\n",
       "  </tbody>\n",
       "</table>\n",
       "<p>52474 rows × 3 columns</p>\n",
       "</div>"
      ],
      "text/plain": [
       "         date   busStopId  personCount\n",
       "0      202001       홍대입구역      1206960\n",
       "1      202001      미아사거리역      1193633\n",
       "2      202001       고속터미널      1045785\n",
       "3      202001    구로디지털단지역      1038583\n",
       "4      202001        신도림역      1018484\n",
       "...       ...         ...          ...\n",
       "52469  202008      중앙잔디광장            2\n",
       "52470  202008    한강대교(가상)            1\n",
       "52471  202008    성산대교(가상)            1\n",
       "52472  202008  한남대교남단(가상)            1\n",
       "52473  202008    동작대교(가상)            1\n",
       "\n",
       "[52474 rows x 3 columns]"
      ]
     },
     "execution_count": 180,
     "metadata": {},
     "output_type": "execute_result"
    }
   ],
   "source": [
    "yearPersonData[3]"
   ]
  },
  {
   "cell_type": "code",
   "execution_count": 223,
   "metadata": {},
   "outputs": [
    {
     "data": {
      "text/html": [
       "<div>\n",
       "<style scoped>\n",
       "    .dataframe tbody tr th:only-of-type {\n",
       "        vertical-align: middle;\n",
       "    }\n",
       "\n",
       "    .dataframe tbody tr th {\n",
       "        vertical-align: top;\n",
       "    }\n",
       "\n",
       "    .dataframe thead th {\n",
       "        text-align: right;\n",
       "    }\n",
       "</style>\n",
       "<table border=\"1\" class=\"dataframe\">\n",
       "  <thead>\n",
       "    <tr style=\"text-align: right;\">\n",
       "      <th></th>\n",
       "      <th>date</th>\n",
       "      <th>busStopId</th>\n",
       "      <th>busKinds</th>\n",
       "    </tr>\n",
       "    <tr>\n",
       "      <th>busStopId</th>\n",
       "      <th></th>\n",
       "      <th></th>\n",
       "      <th></th>\n",
       "    </tr>\n",
       "  </thead>\n",
       "  <tbody>\n",
       "    <tr>\n",
       "      <th>서울역버스환승센터</th>\n",
       "      <td>201701</td>\n",
       "      <td>서울역버스환승센터</td>\n",
       "      <td>51</td>\n",
       "    </tr>\n",
       "    <tr>\n",
       "      <th>현대아파트</th>\n",
       "      <td>201701</td>\n",
       "      <td>현대아파트</td>\n",
       "      <td>46</td>\n",
       "    </tr>\n",
       "    <tr>\n",
       "      <th>숭례문</th>\n",
       "      <td>201701</td>\n",
       "      <td>숭례문</td>\n",
       "      <td>41</td>\n",
       "    </tr>\n",
       "    <tr>\n",
       "      <th>우성아파트</th>\n",
       "      <td>201701</td>\n",
       "      <td>우성아파트</td>\n",
       "      <td>32</td>\n",
       "    </tr>\n",
       "    <tr>\n",
       "      <th>종로1가</th>\n",
       "      <td>201701</td>\n",
       "      <td>종로1가</td>\n",
       "      <td>29</td>\n",
       "    </tr>\n",
       "  </tbody>\n",
       "</table>\n",
       "</div>"
      ],
      "text/plain": [
       "             date  busStopId  busKinds\n",
       "busStopId                             \n",
       "서울역버스환승센터  201701  서울역버스환승센터        51\n",
       "현대아파트      201701      현대아파트        46\n",
       "숭례문        201701        숭례문        41\n",
       "우성아파트      201701      우성아파트        32\n",
       "종로1가       201701       종로1가        29"
      ]
     },
     "execution_count": 223,
     "metadata": {},
     "output_type": "execute_result"
    }
   ],
   "source": [
    "test=showCount_1[0]\n",
    "test.head()"
   ]
  },
  {
   "cell_type": "code",
   "execution_count": null,
   "metadata": {},
   "outputs": [],
   "source": [
    "'''\n",
    "for i in showCount_1 :\n",
    "    tmp=i[['use_mon','bus_sta_nm','bus_route_no']].groupby(by=['use_mon','bus_sta_nm'], as_index=False).count()\n",
    "    tmp.columns=['date','busStopId','busKinds']\n",
    "    tmp=tmp.sort_values(by=['busKinds'], axis=0, ascending=False)\n",
    "    tem=tmp.astype({'date' : str})\n",
    "    showCount_1.append(tmp)\n",
    "showCount_1=np.asarray(showCount_1)\n",
    "'''"
   ]
  },
  {
   "cell_type": "code",
   "execution_count": 148,
   "metadata": {},
   "outputs": [],
   "source": [
    "#save data\n",
    "csv_1 = pd.concat(showCount_1,axis=0,ignore_index=True)\n",
    "csv_1.to_csv('Data/BusKindsData.csv',encoding='euc-kr', index=False)\n",
    "csv_2 = pd.concat(showBusCount,axis=0,ignore_index=True)\n",
    "csv_2.to_csv('Data/BusCountData.csv',encoding='euc-kr', index=False)\n",
    "csv_3 = pd.concat(showPersonCount,axis=0,ignore_index=True)\n",
    "csv_3.to_csv('Data/PersonCountData.csv',encoding='euc-kr', index=False)"
   ]
  },
  {
   "cell_type": "code",
   "execution_count": null,
   "metadata": {},
   "outputs": [],
   "source": []
  }
 ],
 "metadata": {
  "kernelspec": {
   "display_name": "Python 3",
   "language": "python",
   "name": "python3"
  },
  "language_info": {
   "codemirror_mode": {
    "name": "ipython",
    "version": 3
   },
   "file_extension": ".py",
   "mimetype": "text/x-python",
   "name": "python",
   "nbconvert_exporter": "python",
   "pygments_lexer": "ipython3",
   "version": "3.7.7"
  }
 },
 "nbformat": 4,
 "nbformat_minor": 4
}
